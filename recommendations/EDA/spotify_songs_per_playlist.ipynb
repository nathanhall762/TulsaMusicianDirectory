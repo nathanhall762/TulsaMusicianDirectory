{
 "cells": [
  {
   "cell_type": "markdown",
   "metadata": {},
   "source": [
    "## Imports"
   ]
  },
  {
   "cell_type": "code",
   "execution_count": 25,
   "metadata": {},
   "outputs": [],
   "source": [
    "import spotipy\n",
    "from spotipy.oauth2 import SpotifyClientCredentials\n",
    "from pprint import pprint\n",
    "import csv\n",
    "from time import sleep\n",
    "from tqdm import tqdm\n",
    "\n",
    "\n",
    "\n",
    "client_id = 'ca8e1b5257a34872a23454ea7cfd85c8'\n",
    "client_secret = '93436bda55ce4970b1c9abbf5be56d70'\n",
    "\n",
    "auth_manager = SpotifyClientCredentials(client_id=client_id, client_secret=client_secret)\n",
    "sp = spotipy.Spotify(auth_manager=auth_manager)\n"
   ]
  },
  {
   "cell_type": "markdown",
   "metadata": {},
   "source": [
    "## Get us_categories from json file"
   ]
  },
  {
   "cell_type": "code",
   "execution_count": 2,
   "metadata": {},
   "outputs": [
    {
     "name": "stdout",
     "output_type": "stream",
     "text": [
      "{'0JQ5DAqbMKFA6SOHvT3gck': 'Party',\n",
      " '0JQ5DAqbMKFAJ5xb0fwo9m': 'Jazz',\n",
      " '0JQ5DAqbMKFAUsdyVjCQuL': 'Romance',\n",
      " '0JQ5DAqbMKFAXlCG6QvYQ4': 'Workout',\n",
      " '0JQ5DAqbMKFAjfauKLOZiv': 'Punk',\n",
      " '0JQ5DAqbMKFCWjUTdzaG0e': 'Indie',\n",
      " '0JQ5DAqbMKFCbimwdOYlsl': 'Focus',\n",
      " '0JQ5DAqbMKFCfObibaOZbv': 'Gaming',\n",
      " '0JQ5DAqbMKFCuoRTxhYWow': 'Sleep',\n",
      " '0JQ5DAqbMKFDBgllo2cUIN': 'Spotify Singles',\n",
      " '0JQ5DAqbMKFDTEtSaS4R92': 'Regional Mexican',\n",
      " '0JQ5DAqbMKFDXXwE9BDJAr': 'Rock',\n",
      " '0JQ5DAqbMKFDkd668ypn6O': 'Metal',\n",
      " '0JQ5DAqbMKFEC4WFtoNRpw': 'Pop',\n",
      " '0JQ5DAqbMKFEOEBCABAxo9': 'Netflix',\n",
      " '0JQ5DAqbMKFEZPnFQSFB1T': 'R&B',\n",
      " '0JQ5DAqbMKFF9bY76LXmfI': 'Frequency',\n",
      " '0JQ5DAqbMKFFoimhOqWzLB': 'Kids & Family',\n",
      " '0JQ5DAqbMKFFsW9N8maB6z': 'Funk & Disco',\n",
      " '0JQ5DAqbMKFFtlLYUHv8bT': 'Alternative',\n",
      " '0JQ5DAqbMKFFzDl7qN9Apr': 'Chill',\n",
      " '0JQ5DAqbMKFGvOw3O4nLAf': 'K-Pop',\n",
      " '0JQ5DAqbMKFHOzuVTgTizF': 'Dance/Electronic',\n",
      " '0JQ5DAqbMKFIRybaNTYXXy': 'In the car',\n",
      " '0JQ5DAqbMKFIVNxQgRNSg0': 'Decades',\n",
      " '0JQ5DAqbMKFImHYGo3eTSg': 'Fresh Finds',\n",
      " '0JQ5DAqbMKFIpEuaCnimBj': 'Soul',\n",
      " '0JQ5DAqbMKFJw7QLnM27p6': 'Student',\n",
      " '0JQ5DAqbMKFKLfwjuJMoNC': 'Country',\n",
      " '0JQ5DAqbMKFLVaM30PMBm4': 'Summer',\n",
      " '0JQ5DAqbMKFLb2EqgLtpjC': 'Wellness',\n",
      " '0JQ5DAqbMKFLjmiZRss79w': 'Ambient',\n",
      " '0JQ5DAqbMKFNQ0fGp4byGU': 'Afro',\n",
      " '0JQ5DAqbMKFOOxftoKZxod': 'RADAR',\n",
      " '0JQ5DAqbMKFObNLOHydSW8': 'Caribbean',\n",
      " '0JQ5DAqbMKFPrEiAOxgac3': 'Classical',\n",
      " '0JQ5DAqbMKFPw634sFwguI': 'EQUAL',\n",
      " '0JQ5DAqbMKFQ00XGBls6ym': 'Hip-Hop',\n",
      " '0JQ5DAqbMKFQ1UFISXj59F': 'Arab',\n",
      " '0JQ5DAqbMKFQIL0AXnG5AK': 'Pop culture',\n",
      " '0JQ5DAqbMKFQVdc2eQoH2s': 'Desi',\n",
      " '0JQ5DAqbMKFQiK2EHwyjcU': 'Blues',\n",
      " '0JQ5DAqbMKFRKBHIxJ5hMm': 'Tastemakers',\n",
      " '0JQ5DAqbMKFRY5ok2pxXJ0': 'Cooking & Dining',\n",
      " '0JQ5DAqbMKFRieVZLLoo9m': 'Instrumental',\n",
      " '0JQ5DAqbMKFxXaXKP7zcDp': 'Latin',\n",
      " '0JQ5DAqbMKFy0OenPG51Av': 'Christian & Gospel',\n",
      " '0JQ5DAqbMKFy78wprEpAjl': 'Folk & Acoustic',\n",
      " '0JQ5DAqbMKFzHmL4tf05da': 'Mood',\n",
      " '0JQ5DAqbMKFziKOShCi009': 'Anime',\n",
      " 'comedy': 'Comedy',\n",
      " 'toplists': 'Top Lists'}\n"
     ]
    }
   ],
   "source": [
    "import json\n",
    "from pprint import pprint as pp\n",
    "\n",
    "# Specify the file path\n",
    "file_path = 'us_categories.json'\n",
    "\n",
    "# Open the file and load the JSON data\n",
    "with open(file_path, 'r') as file:\n",
    "    us_categories = json.load(file)\n",
    "\n",
    "# Print the loaded data\n",
    "pp(us_categories)\n"
   ]
  },
  {
   "cell_type": "markdown",
   "metadata": {},
   "source": [
    "## Get set of Playlist IDs"
   ]
  },
  {
   "cell_type": "code",
   "execution_count": 3,
   "metadata": {},
   "outputs": [
    {
     "name": "stdout",
     "output_type": "stream",
     "text": [
      "2886\n"
     ]
    }
   ],
   "source": [
    "import pandas as pd\n",
    "\n",
    "Playlists = pd.read_csv('playlists_per_category.csv', index_col=0)\n",
    "\n",
    "Playlists.head()\n",
    "\n",
    "unique_playlists = Playlists.stack().unique()\n",
    "print(len(unique_playlists))\n"
   ]
  },
  {
   "cell_type": "markdown",
   "metadata": {},
   "source": [
    "## Create a dictionary of every song id in each playlist"
   ]
  },
  {
   "cell_type": "code",
   "execution_count": 26,
   "metadata": {},
   "outputs": [
    {
     "name": "stderr",
     "output_type": "stream",
     "text": [
      "  0%|          | 0/2886 [00:00<?, ?it/s]"
     ]
    },
    {
     "name": "stdout",
     "output_type": "stream",
     "text": [
      "37i9dQZF1DXcBWIGoYBM5M\n",
      "Break incoming for: 37i9dQZF1DXcBWIGoYBM5M and 0\n",
      "\n"
     ]
    },
    {
     "name": "stderr",
     "output_type": "stream",
     "text": [
      "  0%|          | 0/2886 [00:08<?, ?it/s]\n"
     ]
    },
    {
     "ename": "KeyboardInterrupt",
     "evalue": "",
     "output_type": "error",
     "traceback": [
      "\u001b[0;31m---------------------------------------------------------------------------\u001b[0m",
      "\u001b[0;31mKeyboardInterrupt\u001b[0m                         Traceback (most recent call last)",
      "\u001b[1;32m/home/ediddev/School_Repos/TulsaMusicianDirectory/recommendations/EDA/spotify_songs_per_playlist.ipynb Cell 8\u001b[0m line \u001b[0;36m1\n\u001b[1;32m     <a href='vscode-notebook-cell://wsl%2Bubuntu/home/ediddev/School_Repos/TulsaMusicianDirectory/recommendations/EDA/spotify_songs_per_playlist.ipynb#X10sdnNjb2RlLXJlbW90ZQ%3D%3D?line=11'>12</a>\u001b[0m \u001b[39mtry\u001b[39;00m:\n\u001b[1;32m     <a href='vscode-notebook-cell://wsl%2Bubuntu/home/ediddev/School_Repos/TulsaMusicianDirectory/recommendations/EDA/spotify_songs_per_playlist.ipynb#X10sdnNjb2RlLXJlbW90ZQ%3D%3D?line=12'>13</a>\u001b[0m     \u001b[39mprint\u001b[39m(\u001b[39mf\u001b[39m\u001b[39m\"\u001b[39m\u001b[39mBreak incoming for: \u001b[39m\u001b[39m{\u001b[39;00mplaylist_id\u001b[39m}\u001b[39;00m\u001b[39m and \u001b[39m\u001b[39m{\u001b[39;00moffset\u001b[39m}\u001b[39;00m\u001b[39m\\n\u001b[39;00m\u001b[39m\"\u001b[39m)\n\u001b[0;32m---> <a href='vscode-notebook-cell://wsl%2Bubuntu/home/ediddev/School_Repos/TulsaMusicianDirectory/recommendations/EDA/spotify_songs_per_playlist.ipynb#X10sdnNjb2RlLXJlbW90ZQ%3D%3D?line=13'>14</a>\u001b[0m     playlist \u001b[39m=\u001b[39m sp\u001b[39m.\u001b[39mplaylist_items(playlist_id\u001b[39m=\u001b[39mplaylist_id,\n\u001b[1;32m     <a href='vscode-notebook-cell://wsl%2Bubuntu/home/ediddev/School_Repos/TulsaMusicianDirectory/recommendations/EDA/spotify_songs_per_playlist.ipynb#X10sdnNjb2RlLXJlbW90ZQ%3D%3D?line=14'>15</a>\u001b[0m                                  limit\u001b[39m=\u001b[39m\u001b[39m100\u001b[39m,\n\u001b[1;32m     <a href='vscode-notebook-cell://wsl%2Bubuntu/home/ediddev/School_Repos/TulsaMusicianDirectory/recommendations/EDA/spotify_songs_per_playlist.ipynb#X10sdnNjb2RlLXJlbW90ZQ%3D%3D?line=15'>16</a>\u001b[0m                                  offset\u001b[39m=\u001b[39moffset)\n\u001b[1;32m     <a href='vscode-notebook-cell://wsl%2Bubuntu/home/ediddev/School_Repos/TulsaMusicianDirectory/recommendations/EDA/spotify_songs_per_playlist.ipynb#X10sdnNjb2RlLXJlbW90ZQ%3D%3D?line=16'>17</a>\u001b[0m     \u001b[39mprint\u001b[39m(\u001b[39m'\u001b[39m\u001b[39mapi call happened\u001b[39m\u001b[39m'\u001b[39m)\n\u001b[1;32m     <a href='vscode-notebook-cell://wsl%2Bubuntu/home/ediddev/School_Repos/TulsaMusicianDirectory/recommendations/EDA/spotify_songs_per_playlist.ipynb#X10sdnNjb2RlLXJlbW90ZQ%3D%3D?line=17'>18</a>\u001b[0m     tracks \u001b[39m=\u001b[39m playlist[\u001b[39m'\u001b[39m\u001b[39mitems\u001b[39m\u001b[39m'\u001b[39m]\n",
      "File \u001b[0;32m~/anaconda3/lib/python3.11/site-packages/spotipy/client.py:707\u001b[0m, in \u001b[0;36mSpotify.playlist_items\u001b[0;34m(self, playlist_id, fields, limit, offset, market, additional_types)\u001b[0m\n\u001b[1;32m    695\u001b[0m \u001b[39m\u001b[39m\u001b[39m\"\"\" Get full details of the tracks and episodes of a playlist.\u001b[39;00m\n\u001b[1;32m    696\u001b[0m \n\u001b[1;32m    697\u001b[0m \u001b[39m    Parameters:\u001b[39;00m\n\u001b[0;32m   (...)\u001b[0m\n\u001b[1;32m    704\u001b[0m \u001b[39m                             valid types are: track and episode\u001b[39;00m\n\u001b[1;32m    705\u001b[0m \u001b[39m\"\"\"\u001b[39;00m\n\u001b[1;32m    706\u001b[0m plid \u001b[39m=\u001b[39m \u001b[39mself\u001b[39m\u001b[39m.\u001b[39m_get_id(\u001b[39m\"\u001b[39m\u001b[39mplaylist\u001b[39m\u001b[39m\"\u001b[39m, playlist_id)\n\u001b[0;32m--> 707\u001b[0m \u001b[39mreturn\u001b[39;00m \u001b[39mself\u001b[39m\u001b[39m.\u001b[39m_get(\n\u001b[1;32m    708\u001b[0m     \u001b[39m\"\u001b[39m\u001b[39mplaylists/\u001b[39m\u001b[39m%s\u001b[39;00m\u001b[39m/tracks\u001b[39m\u001b[39m\"\u001b[39m \u001b[39m%\u001b[39m (plid),\n\u001b[1;32m    709\u001b[0m     limit\u001b[39m=\u001b[39mlimit,\n\u001b[1;32m    710\u001b[0m     offset\u001b[39m=\u001b[39moffset,\n\u001b[1;32m    711\u001b[0m     fields\u001b[39m=\u001b[39mfields,\n\u001b[1;32m    712\u001b[0m     market\u001b[39m=\u001b[39mmarket,\n\u001b[1;32m    713\u001b[0m     additional_types\u001b[39m=\u001b[39m\u001b[39m\"\u001b[39m\u001b[39m,\u001b[39m\u001b[39m\"\u001b[39m\u001b[39m.\u001b[39mjoin(additional_types)\n\u001b[1;32m    714\u001b[0m )\n",
      "File \u001b[0;32m~/anaconda3/lib/python3.11/site-packages/spotipy/client.py:323\u001b[0m, in \u001b[0;36mSpotify._get\u001b[0;34m(self, url, args, payload, **kwargs)\u001b[0m\n\u001b[1;32m    320\u001b[0m \u001b[39mif\u001b[39;00m args:\n\u001b[1;32m    321\u001b[0m     kwargs\u001b[39m.\u001b[39mupdate(args)\n\u001b[0;32m--> 323\u001b[0m \u001b[39mreturn\u001b[39;00m \u001b[39mself\u001b[39m\u001b[39m.\u001b[39m_internal_call(\u001b[39m\"\u001b[39m\u001b[39mGET\u001b[39m\u001b[39m\"\u001b[39m, url, payload, kwargs)\n",
      "File \u001b[0;32m~/anaconda3/lib/python3.11/site-packages/spotipy/client.py:266\u001b[0m, in \u001b[0;36mSpotify._internal_call\u001b[0;34m(self, method, url, payload, params)\u001b[0m\n\u001b[1;32m    262\u001b[0m logger\u001b[39m.\u001b[39mdebug(\u001b[39m'\u001b[39m\u001b[39mSending \u001b[39m\u001b[39m%s\u001b[39;00m\u001b[39m to \u001b[39m\u001b[39m%s\u001b[39;00m\u001b[39m with Params: \u001b[39m\u001b[39m%s\u001b[39;00m\u001b[39m Headers: \u001b[39m\u001b[39m%s\u001b[39;00m\u001b[39m and Body: \u001b[39m\u001b[39m%r\u001b[39;00m\u001b[39m \u001b[39m\u001b[39m'\u001b[39m,\n\u001b[1;32m    263\u001b[0m              method, url, args\u001b[39m.\u001b[39mget(\u001b[39m\"\u001b[39m\u001b[39mparams\u001b[39m\u001b[39m\"\u001b[39m), headers, args\u001b[39m.\u001b[39mget(\u001b[39m'\u001b[39m\u001b[39mdata\u001b[39m\u001b[39m'\u001b[39m))\n\u001b[1;32m    265\u001b[0m \u001b[39mtry\u001b[39;00m:\n\u001b[0;32m--> 266\u001b[0m     response \u001b[39m=\u001b[39m \u001b[39mself\u001b[39m\u001b[39m.\u001b[39m_session\u001b[39m.\u001b[39mrequest(\n\u001b[1;32m    267\u001b[0m         method, url, headers\u001b[39m=\u001b[39mheaders, proxies\u001b[39m=\u001b[39m\u001b[39mself\u001b[39m\u001b[39m.\u001b[39mproxies,\n\u001b[1;32m    268\u001b[0m         timeout\u001b[39m=\u001b[39m\u001b[39mself\u001b[39m\u001b[39m.\u001b[39mrequests_timeout, \u001b[39m*\u001b[39m\u001b[39m*\u001b[39margs\n\u001b[1;32m    269\u001b[0m     )\n\u001b[1;32m    271\u001b[0m     response\u001b[39m.\u001b[39mraise_for_status()\n\u001b[1;32m    272\u001b[0m     results \u001b[39m=\u001b[39m response\u001b[39m.\u001b[39mjson()\n",
      "File \u001b[0;32m~/anaconda3/lib/python3.11/site-packages/requests/sessions.py:589\u001b[0m, in \u001b[0;36mSession.request\u001b[0;34m(self, method, url, params, data, headers, cookies, files, auth, timeout, allow_redirects, proxies, hooks, stream, verify, cert, json)\u001b[0m\n\u001b[1;32m    584\u001b[0m send_kwargs \u001b[39m=\u001b[39m {\n\u001b[1;32m    585\u001b[0m     \u001b[39m\"\u001b[39m\u001b[39mtimeout\u001b[39m\u001b[39m\"\u001b[39m: timeout,\n\u001b[1;32m    586\u001b[0m     \u001b[39m\"\u001b[39m\u001b[39mallow_redirects\u001b[39m\u001b[39m\"\u001b[39m: allow_redirects,\n\u001b[1;32m    587\u001b[0m }\n\u001b[1;32m    588\u001b[0m send_kwargs\u001b[39m.\u001b[39mupdate(settings)\n\u001b[0;32m--> 589\u001b[0m resp \u001b[39m=\u001b[39m \u001b[39mself\u001b[39m\u001b[39m.\u001b[39msend(prep, \u001b[39m*\u001b[39m\u001b[39m*\u001b[39msend_kwargs)\n\u001b[1;32m    591\u001b[0m \u001b[39mreturn\u001b[39;00m resp\n",
      "File \u001b[0;32m~/anaconda3/lib/python3.11/site-packages/requests/sessions.py:703\u001b[0m, in \u001b[0;36mSession.send\u001b[0;34m(self, request, **kwargs)\u001b[0m\n\u001b[1;32m    700\u001b[0m start \u001b[39m=\u001b[39m preferred_clock()\n\u001b[1;32m    702\u001b[0m \u001b[39m# Send the request\u001b[39;00m\n\u001b[0;32m--> 703\u001b[0m r \u001b[39m=\u001b[39m adapter\u001b[39m.\u001b[39msend(request, \u001b[39m*\u001b[39m\u001b[39m*\u001b[39mkwargs)\n\u001b[1;32m    705\u001b[0m \u001b[39m# Total elapsed time of the request (approximately)\u001b[39;00m\n\u001b[1;32m    706\u001b[0m elapsed \u001b[39m=\u001b[39m preferred_clock() \u001b[39m-\u001b[39m start\n",
      "File \u001b[0;32m~/anaconda3/lib/python3.11/site-packages/requests/adapters.py:486\u001b[0m, in \u001b[0;36mHTTPAdapter.send\u001b[0;34m(self, request, stream, timeout, verify, cert, proxies)\u001b[0m\n\u001b[1;32m    483\u001b[0m     timeout \u001b[39m=\u001b[39m TimeoutSauce(connect\u001b[39m=\u001b[39mtimeout, read\u001b[39m=\u001b[39mtimeout)\n\u001b[1;32m    485\u001b[0m \u001b[39mtry\u001b[39;00m:\n\u001b[0;32m--> 486\u001b[0m     resp \u001b[39m=\u001b[39m conn\u001b[39m.\u001b[39murlopen(\n\u001b[1;32m    487\u001b[0m         method\u001b[39m=\u001b[39mrequest\u001b[39m.\u001b[39mmethod,\n\u001b[1;32m    488\u001b[0m         url\u001b[39m=\u001b[39murl,\n\u001b[1;32m    489\u001b[0m         body\u001b[39m=\u001b[39mrequest\u001b[39m.\u001b[39mbody,\n\u001b[1;32m    490\u001b[0m         headers\u001b[39m=\u001b[39mrequest\u001b[39m.\u001b[39mheaders,\n\u001b[1;32m    491\u001b[0m         redirect\u001b[39m=\u001b[39m\u001b[39mFalse\u001b[39;00m,\n\u001b[1;32m    492\u001b[0m         assert_same_host\u001b[39m=\u001b[39m\u001b[39mFalse\u001b[39;00m,\n\u001b[1;32m    493\u001b[0m         preload_content\u001b[39m=\u001b[39m\u001b[39mFalse\u001b[39;00m,\n\u001b[1;32m    494\u001b[0m         decode_content\u001b[39m=\u001b[39m\u001b[39mFalse\u001b[39;00m,\n\u001b[1;32m    495\u001b[0m         retries\u001b[39m=\u001b[39m\u001b[39mself\u001b[39m\u001b[39m.\u001b[39mmax_retries,\n\u001b[1;32m    496\u001b[0m         timeout\u001b[39m=\u001b[39mtimeout,\n\u001b[1;32m    497\u001b[0m         chunked\u001b[39m=\u001b[39mchunked,\n\u001b[1;32m    498\u001b[0m     )\n\u001b[1;32m    500\u001b[0m \u001b[39mexcept\u001b[39;00m (ProtocolError, \u001b[39mOSError\u001b[39;00m) \u001b[39mas\u001b[39;00m err:\n\u001b[1;32m    501\u001b[0m     \u001b[39mraise\u001b[39;00m \u001b[39mConnectionError\u001b[39;00m(err, request\u001b[39m=\u001b[39mrequest)\n",
      "File \u001b[0;32m~/anaconda3/lib/python3.11/site-packages/urllib3/connectionpool.py:887\u001b[0m, in \u001b[0;36mHTTPConnectionPool.urlopen\u001b[0;34m(self, method, url, body, headers, retries, redirect, assert_same_host, timeout, pool_timeout, release_conn, chunked, body_pos, **response_kw)\u001b[0m\n\u001b[1;32m    884\u001b[0m     \u001b[39mreturn\u001b[39;00m response\n\u001b[1;32m    886\u001b[0m response\u001b[39m.\u001b[39mdrain_conn()\n\u001b[0;32m--> 887\u001b[0m retries\u001b[39m.\u001b[39msleep(response)\n\u001b[1;32m    888\u001b[0m log\u001b[39m.\u001b[39mdebug(\u001b[39m\"\u001b[39m\u001b[39mRetry: \u001b[39m\u001b[39m%s\u001b[39;00m\u001b[39m\"\u001b[39m, url)\n\u001b[1;32m    889\u001b[0m \u001b[39mreturn\u001b[39;00m \u001b[39mself\u001b[39m\u001b[39m.\u001b[39murlopen(\n\u001b[1;32m    890\u001b[0m     method,\n\u001b[1;32m    891\u001b[0m     url,\n\u001b[0;32m   (...)\u001b[0m\n\u001b[1;32m    902\u001b[0m     \u001b[39m*\u001b[39m\u001b[39m*\u001b[39mresponse_kw\n\u001b[1;32m    903\u001b[0m )\n",
      "File \u001b[0;32m~/anaconda3/lib/python3.11/site-packages/urllib3/util/retry.py:428\u001b[0m, in \u001b[0;36mRetry.sleep\u001b[0;34m(self, response)\u001b[0m\n\u001b[1;32m    419\u001b[0m \u001b[39m\u001b[39m\u001b[39m\"\"\"Sleep between retry attempts.\u001b[39;00m\n\u001b[1;32m    420\u001b[0m \n\u001b[1;32m    421\u001b[0m \u001b[39mThis method will respect a server's ``Retry-After`` response header\u001b[39;00m\n\u001b[0;32m   (...)\u001b[0m\n\u001b[1;32m    424\u001b[0m \u001b[39mthis method will return immediately.\u001b[39;00m\n\u001b[1;32m    425\u001b[0m \u001b[39m\"\"\"\u001b[39;00m\n\u001b[1;32m    427\u001b[0m \u001b[39mif\u001b[39;00m \u001b[39mself\u001b[39m\u001b[39m.\u001b[39mrespect_retry_after_header \u001b[39mand\u001b[39;00m response:\n\u001b[0;32m--> 428\u001b[0m     slept \u001b[39m=\u001b[39m \u001b[39mself\u001b[39m\u001b[39m.\u001b[39msleep_for_retry(response)\n\u001b[1;32m    429\u001b[0m     \u001b[39mif\u001b[39;00m slept:\n\u001b[1;32m    430\u001b[0m         \u001b[39mreturn\u001b[39;00m\n",
      "File \u001b[0;32m~/anaconda3/lib/python3.11/site-packages/urllib3/util/retry.py:407\u001b[0m, in \u001b[0;36mRetry.sleep_for_retry\u001b[0;34m(self, response)\u001b[0m\n\u001b[1;32m    405\u001b[0m retry_after \u001b[39m=\u001b[39m \u001b[39mself\u001b[39m\u001b[39m.\u001b[39mget_retry_after(response)\n\u001b[1;32m    406\u001b[0m \u001b[39mif\u001b[39;00m retry_after:\n\u001b[0;32m--> 407\u001b[0m     time\u001b[39m.\u001b[39msleep(retry_after)\n\u001b[1;32m    408\u001b[0m     \u001b[39mreturn\u001b[39;00m \u001b[39mTrue\u001b[39;00m\n\u001b[1;32m    410\u001b[0m \u001b[39mreturn\u001b[39;00m \u001b[39mFalse\u001b[39;00m\n",
      "\u001b[0;31mKeyboardInterrupt\u001b[0m: "
     ]
    }
   ],
   "source": [
    "# Get all tracks from each playlist in each category\n",
    "playlists_songs = {}\n",
    "for playlist_id in tqdm(unique_playlists):\n",
    "    offset = 0\n",
    "    print(playlist_id)\n",
    "    if playlist_id in playlists_songs.keys():\n",
    "        continue\n",
    "    playlists_songs[playlist_id] = []\n",
    "    while True:\n",
    "        # sleep(1)\n",
    "        # print(playlist_id)\n",
    "        try:\n",
    "            print(f\"Break incoming for: {playlist_id} and {offset}\\n\")\n",
    "            playlist = sp.playlist_tracks(playlist_id=playlist_id,\n",
    "                                         limit=100,\n",
    "                                         offset=offset)\n",
    "            print('api call happened')\n",
    "            tracks = playlist['items']\n",
    "            for track in tracks:\n",
    "                if type(track['track']) is type(None):\n",
    "                    break\n",
    "                playlists_songs[playlist_id].append(track['track']['id'])\n",
    "            if playlist['next'] is not None:\n",
    "                offset += 100\n",
    "            else:\n",
    "                break\n",
    "        except spotipy.SpotifyException as e:\n",
    "            print(e)\n",
    "            if e.http_status == 401 and 'access token expired' in e.msg.lower():\n",
    "                print('Refreshing token')\n",
    "                sp.client_credentials_manager.refresh_token(auth_manager.client_id,\n",
    "                                                            auth_manager.client_secret)\n",
    "            if e.http_status == 429:\n",
    "                print('Sleeping for 10 seconds')\n",
    "                sleep(10)\n",
    "        except Exception as e:\n",
    "            print(e)\n",
    "            print(playlist_id)\n",
    "            break\n",
    "pprint(playlists_songs)\n"
   ]
  },
  {
   "cell_type": "code",
   "execution_count": 72,
   "metadata": {},
   "outputs": [
    {
     "name": "stdout",
     "output_type": "stream",
     "text": [
      "dict_keys(['37i9dQZF1DXcBWIGoYBM5M', '37i9dQZF1DX0XUsuxWHRQd'])\n"
     ]
    }
   ],
   "source": [
    "# pprint(playlists_songs)\n",
    "print(playlists_songs.keys())\n"
   ]
  },
  {
   "cell_type": "code",
   "execution_count": 65,
   "metadata": {},
   "outputs": [],
   "source": [
    "# df = pd.DataFrame.from_dict(playlists_songs, orient='index')\n",
    "# df\n",
    "# playlists_songs = df.to_dict(orient='index')\n",
    "# pprint(playlists_songs)\n",
    "copy = playlists_songs.copy()\n"
   ]
  },
  {
   "cell_type": "code",
   "execution_count": 92,
   "metadata": {},
   "outputs": [
    {
     "name": "stdout",
     "output_type": "stream",
     "text": [
      "{'href': 'https://api.spotify.com/v1/artists/2WX2uTcsvV5OnS0inACecP/albums?include_groups=album&offset=0&limit=20', 'items': [{'album_group': 'album', 'album_type': 'album', 'artists': [{'external_urls': {'spotify': 'https://open.spotify.com/artist/2WX2uTcsvV5OnS0inACecP'}, 'href': 'https://api.spotify.com/v1/artists/2WX2uTcsvV5OnS0inACecP', 'id': '2WX2uTcsvV5OnS0inACecP', 'name': 'Birdy', 'type': 'artist', 'uri': 'spotify:artist:2WX2uTcsvV5OnS0inACecP'}], 'available_markets': ['AR', 'AU', 'AT', 'BE', 'BO', 'BR', 'BG', 'CA', 'CL', 'CO', 'CR', 'CY', 'CZ', 'DK', 'DO', 'DE', 'EC', 'EE', 'SV', 'FI', 'FR', 'GR', 'GT', 'HN', 'HK', 'HU', 'IS', 'IE', 'IT', 'LV', 'LT', 'LU', 'MY', 'MT', 'MX', 'NL', 'NZ', 'NI', 'NO', 'PA', 'PY', 'PE', 'PH', 'PL', 'PT', 'SG', 'SK', 'ES', 'SE', 'CH', 'TW', 'TR', 'UY', 'US', 'GB', 'AD', 'LI', 'MC', 'ID', 'JP', 'TH', 'VN', 'RO', 'IL', 'ZA', 'SA', 'AE', 'BH', 'QA', 'OM', 'KW', 'EG', 'MA', 'DZ', 'TN', 'LB', 'JO', 'PS', 'IN', 'KZ', 'MD', 'UA', 'AL', 'BA', 'HR', 'ME', 'MK', 'RS', 'SI', 'KR', 'BD', 'PK', 'LK', 'GH', 'KE', 'NG', 'TZ', 'UG', 'AG', 'AM', 'BS', 'BB', 'BZ', 'BT', 'BW', 'BF', 'CV', 'CW', 'DM', 'FJ', 'GM', 'GE', 'GD', 'GW', 'GY', 'HT', 'JM', 'KI', 'LS', 'LR', 'MW', 'MV', 'ML', 'MH', 'FM', 'NA', 'NR', 'NE', 'PW', 'PG', 'WS', 'SM', 'ST', 'SN', 'SC', 'SL', 'SB', 'KN', 'LC', 'VC', 'SR', 'TL', 'TO', 'TT', 'TV', 'VU', 'AZ', 'BN', 'BI', 'KH', 'CM', 'TD', 'KM', 'GQ', 'SZ', 'GA', 'GN', 'KG', 'LA', 'MO', 'MR', 'MN', 'NP', 'RW', 'TG', 'UZ', 'ZW', 'BJ', 'MG', 'MU', 'MZ', 'AO', 'CI', 'DJ', 'ZM', 'CD', 'CG', 'IQ', 'LY', 'TJ', 'VE', 'ET', 'XK'], 'external_urls': {'spotify': 'https://open.spotify.com/album/2QTZiOy0LlRpC8FGUSXQoO'}, 'href': 'https://api.spotify.com/v1/albums/2QTZiOy0LlRpC8FGUSXQoO', 'id': '2QTZiOy0LlRpC8FGUSXQoO', 'images': [{'height': 640, 'url': 'https://i.scdn.co/image/ab67616d0000b27381f35bf20b5d90f840d8f017', 'width': 640}, {'height': 300, 'url': 'https://i.scdn.co/image/ab67616d00001e0281f35bf20b5d90f840d8f017', 'width': 300}, {'height': 64, 'url': 'https://i.scdn.co/image/ab67616d0000485181f35bf20b5d90f840d8f017', 'width': 64}], 'name': 'Portraits (+ Remixes)', 'release_date': '2023-08-22', 'release_date_precision': 'day', 'total_tracks': 15, 'type': 'album', 'uri': 'spotify:album:2QTZiOy0LlRpC8FGUSXQoO'}, {'album_group': 'album', 'album_type': 'album', 'artists': [{'external_urls': {'spotify': 'https://open.spotify.com/artist/2WX2uTcsvV5OnS0inACecP'}, 'href': 'https://api.spotify.com/v1/artists/2WX2uTcsvV5OnS0inACecP', 'id': '2WX2uTcsvV5OnS0inACecP', 'name': 'Birdy', 'type': 'artist', 'uri': 'spotify:artist:2WX2uTcsvV5OnS0inACecP'}], 'available_markets': ['AR', 'AU', 'AT', 'BE', 'BO', 'BR', 'BG', 'CA', 'CL', 'CO', 'CR', 'CY', 'CZ', 'DK', 'DO', 'DE', 'EC', 'EE', 'SV', 'FI', 'FR', 'GR', 'GT', 'HN', 'HK', 'HU', 'IS', 'IE', 'IT', 'LV', 'LT', 'LU', 'MY', 'MT', 'MX', 'NL', 'NZ', 'NI', 'NO', 'PA', 'PY', 'PE', 'PH', 'PL', 'PT', 'SG', 'SK', 'ES', 'SE', 'CH', 'TW', 'TR', 'UY', 'US', 'GB', 'AD', 'LI', 'MC', 'ID', 'JP', 'TH', 'VN', 'RO', 'IL', 'ZA', 'SA', 'AE', 'BH', 'QA', 'OM', 'KW', 'EG', 'MA', 'DZ', 'TN', 'LB', 'JO', 'PS', 'IN', 'KZ', 'MD', 'UA', 'AL', 'BA', 'HR', 'ME', 'MK', 'RS', 'SI', 'KR', 'BD', 'PK', 'LK', 'GH', 'KE', 'NG', 'TZ', 'UG', 'AG', 'AM', 'BS', 'BB', 'BZ', 'BT', 'BW', 'BF', 'CV', 'CW', 'DM', 'FJ', 'GM', 'GE', 'GD', 'GW', 'GY', 'HT', 'JM', 'KI', 'LS', 'LR', 'MW', 'MV', 'ML', 'MH', 'FM', 'NA', 'NR', 'NE', 'PW', 'PG', 'WS', 'SM', 'ST', 'SN', 'SC', 'SL', 'SB', 'KN', 'LC', 'VC', 'SR', 'TL', 'TO', 'TT', 'TV', 'VU', 'AZ', 'BN', 'BI', 'KH', 'CM', 'TD', 'KM', 'GQ', 'SZ', 'GA', 'GN', 'KG', 'LA', 'MO', 'MR', 'MN', 'NP', 'RW', 'TG', 'UZ', 'ZW', 'BJ', 'MG', 'MU', 'MZ', 'AO', 'CI', 'DJ', 'ZM', 'CD', 'CG', 'IQ', 'LY', 'TJ', 'VE', 'ET', 'XK'], 'external_urls': {'spotify': 'https://open.spotify.com/album/0ntTitta8btOS93RiM3TrO'}, 'href': 'https://api.spotify.com/v1/albums/0ntTitta8btOS93RiM3TrO', 'id': '0ntTitta8btOS93RiM3TrO', 'images': [{'height': 640, 'url': 'https://i.scdn.co/image/ab67616d0000b27365dc484b9e9e11306d51fe34', 'width': 640}, {'height': 300, 'url': 'https://i.scdn.co/image/ab67616d00001e0265dc484b9e9e11306d51fe34', 'width': 300}, {'height': 64, 'url': 'https://i.scdn.co/image/ab67616d0000485165dc484b9e9e11306d51fe34', 'width': 64}], 'name': 'Portraits', 'release_date': '2023-08-18', 'release_date_precision': 'day', 'total_tracks': 11, 'type': 'album', 'uri': 'spotify:album:0ntTitta8btOS93RiM3TrO'}, {'album_group': 'album', 'album_type': 'album', 'artists': [{'external_urls': {'spotify': 'https://open.spotify.com/artist/2WX2uTcsvV5OnS0inACecP'}, 'href': 'https://api.spotify.com/v1/artists/2WX2uTcsvV5OnS0inACecP', 'id': '2WX2uTcsvV5OnS0inACecP', 'name': 'Birdy', 'type': 'artist', 'uri': 'spotify:artist:2WX2uTcsvV5OnS0inACecP'}], 'available_markets': ['AR', 'AU', 'AT', 'BE', 'BO', 'BR', 'BG', 'CA', 'CL', 'CO', 'CR', 'CY', 'CZ', 'DK', 'DO', 'DE', 'EC', 'EE', 'SV', 'FI', 'FR', 'GR', 'GT', 'HN', 'HK', 'HU', 'IS', 'IE', 'IT', 'LV', 'LT', 'LU', 'MY', 'MT', 'MX', 'NL', 'NZ', 'NI', 'NO', 'PA', 'PY', 'PE', 'PH', 'PL', 'PT', 'SG', 'SK', 'ES', 'SE', 'CH', 'TW', 'TR', 'UY', 'US', 'GB', 'AD', 'LI', 'MC', 'ID', 'JP', 'TH', 'VN', 'RO', 'IL', 'ZA', 'SA', 'AE', 'BH', 'QA', 'OM', 'KW', 'EG', 'MA', 'DZ', 'TN', 'LB', 'JO', 'PS', 'IN', 'BY', 'KZ', 'MD', 'UA', 'AL', 'BA', 'HR', 'ME', 'MK', 'RS', 'SI', 'KR', 'BD', 'PK', 'LK', 'GH', 'KE', 'NG', 'TZ', 'UG', 'AG', 'AM', 'BS', 'BB', 'BZ', 'BT', 'BW', 'BF', 'CV', 'CW', 'DM', 'FJ', 'GM', 'GE', 'GD', 'GW', 'GY', 'HT', 'JM', 'KI', 'LS', 'LR', 'MW', 'MV', 'ML', 'MH', 'FM', 'NA', 'NR', 'NE', 'PW', 'PG', 'WS', 'SM', 'ST', 'SN', 'SC', 'SL', 'SB', 'KN', 'LC', 'VC', 'SR', 'TL', 'TO', 'TT', 'TV', 'VU', 'AZ', 'BN', 'BI', 'KH', 'CM', 'TD', 'KM', 'GQ', 'SZ', 'GA', 'GN', 'KG', 'LA', 'MO', 'MR', 'MN', 'NP', 'RW', 'TG', 'UZ', 'ZW', 'BJ', 'MG', 'MU', 'MZ', 'AO', 'CI', 'DJ', 'ZM', 'CD', 'CG', 'IQ', 'LY', 'TJ', 'VE', 'ET', 'XK'], 'external_urls': {'spotify': 'https://open.spotify.com/album/4qsLVZk1UnizpQJBkbFNdx'}, 'href': 'https://api.spotify.com/v1/albums/4qsLVZk1UnizpQJBkbFNdx', 'id': '4qsLVZk1UnizpQJBkbFNdx', 'images': [{'height': 640, 'url': 'https://i.scdn.co/image/ab67616d0000b27361d0c623346c1fb4cb00a79a', 'width': 640}, {'height': 300, 'url': 'https://i.scdn.co/image/ab67616d00001e0261d0c623346c1fb4cb00a79a', 'width': 300}, {'height': 64, 'url': 'https://i.scdn.co/image/ab67616d0000485161d0c623346c1fb4cb00a79a', 'width': 64}], 'name': 'Young Heart', 'release_date': '2021-04-30', 'release_date_precision': 'day', 'total_tracks': 16, 'type': 'album', 'uri': 'spotify:album:4qsLVZk1UnizpQJBkbFNdx'}, {'album_group': 'album', 'album_type': 'album', 'artists': [{'external_urls': {'spotify': 'https://open.spotify.com/artist/2WX2uTcsvV5OnS0inACecP'}, 'href': 'https://api.spotify.com/v1/artists/2WX2uTcsvV5OnS0inACecP', 'id': '2WX2uTcsvV5OnS0inACecP', 'name': 'Birdy', 'type': 'artist', 'uri': 'spotify:artist:2WX2uTcsvV5OnS0inACecP'}], 'available_markets': ['US'], 'external_urls': {'spotify': 'https://open.spotify.com/album/5wNnopxjgSKVvHTIcBpV8Q'}, 'href': 'https://api.spotify.com/v1/albums/5wNnopxjgSKVvHTIcBpV8Q', 'id': '5wNnopxjgSKVvHTIcBpV8Q', 'images': [{'height': 640, 'url': 'https://i.scdn.co/image/ab67616d0000b273f67ea4e620f14bd9dad994e5', 'width': 640}, {'height': 300, 'url': 'https://i.scdn.co/image/ab67616d00001e02f67ea4e620f14bd9dad994e5', 'width': 300}, {'height': 64, 'url': 'https://i.scdn.co/image/ab67616d00004851f67ea4e620f14bd9dad994e5', 'width': 64}], 'name': 'Beautiful Lies', 'release_date': '2016-03-25', 'release_date_precision': 'day', 'total_tracks': 14, 'type': 'album', 'uri': 'spotify:album:5wNnopxjgSKVvHTIcBpV8Q'}, {'album_group': 'album', 'album_type': 'album', 'artists': [{'external_urls': {'spotify': 'https://open.spotify.com/artist/2WX2uTcsvV5OnS0inACecP'}, 'href': 'https://api.spotify.com/v1/artists/2WX2uTcsvV5OnS0inACecP', 'id': '2WX2uTcsvV5OnS0inACecP', 'name': 'Birdy', 'type': 'artist', 'uri': 'spotify:artist:2WX2uTcsvV5OnS0inACecP'}], 'available_markets': ['CA', 'ES', 'US'], 'external_urls': {'spotify': 'https://open.spotify.com/album/0r94AFhRLvpfXvha7vx2dK'}, 'href': 'https://api.spotify.com/v1/albums/0r94AFhRLvpfXvha7vx2dK', 'id': '0r94AFhRLvpfXvha7vx2dK', 'images': [{'height': 640, 'url': 'https://i.scdn.co/image/ab67616d0000b2733feff1d3da74bd0f3a56178c', 'width': 640}, {'height': 300, 'url': 'https://i.scdn.co/image/ab67616d00001e023feff1d3da74bd0f3a56178c', 'width': 300}, {'height': 64, 'url': 'https://i.scdn.co/image/ab67616d000048513feff1d3da74bd0f3a56178c', 'width': 64}], 'name': 'Fire Within', 'release_date': '2013-09-16', 'release_date_precision': 'day', 'total_tracks': 13, 'type': 'album', 'uri': 'spotify:album:0r94AFhRLvpfXvha7vx2dK'}, {'album_group': 'album', 'album_type': 'album', 'artists': [{'external_urls': {'spotify': 'https://open.spotify.com/artist/2WX2uTcsvV5OnS0inACecP'}, 'href': 'https://api.spotify.com/v1/artists/2WX2uTcsvV5OnS0inACecP', 'id': '2WX2uTcsvV5OnS0inACecP', 'name': 'Birdy', 'type': 'artist', 'uri': 'spotify:artist:2WX2uTcsvV5OnS0inACecP'}], 'available_markets': ['AR', 'AU', 'AT', 'BE', 'BO', 'BR', 'BG', 'CA', 'CL', 'CO', 'CR', 'CY', 'CZ', 'DK', 'DO', 'DE', 'EC', 'EE', 'SV', 'FI', 'FR', 'GR', 'GT', 'HN', 'HK', 'HU', 'IS', 'IE', 'IT', 'LV', 'LT', 'LU', 'MY', 'MT', 'MX', 'NL', 'NZ', 'NI', 'NO', 'PA', 'PY', 'PE', 'PH', 'PL', 'PT', 'SG', 'SK', 'ES', 'SE', 'CH', 'TW', 'TR', 'UY', 'US', 'GB', 'AD', 'LI', 'MC', 'ID', 'JP', 'TH', 'VN', 'RO', 'IL', 'ZA', 'SA', 'AE', 'BH', 'QA', 'OM', 'KW', 'EG', 'MA', 'DZ', 'TN', 'LB', 'JO', 'IN', 'BY', 'KZ', 'MD', 'UA', 'AL', 'BA', 'HR', 'ME', 'MK', 'RS', 'SI', 'KR', 'LK', 'GH', 'KE', 'NG', 'TZ', 'UG', 'AG', 'AM', 'BS', 'BB', 'BZ', 'BW', 'BF', 'CV', 'CW', 'DM', 'FJ', 'GM', 'GD', 'GW', 'HT', 'JM', 'LS', 'LR', 'MW', 'MV', 'ML', 'FM', 'NA', 'NE', 'PG', 'SM', 'ST', 'SN', 'SC', 'SL', 'KN', 'LC', 'VC', 'TL', 'TT', 'AZ', 'BN', 'BI', 'KH', 'CM', 'TD', 'KM', 'GQ', 'SZ', 'GA', 'GN', 'KG', 'LA', 'MO', 'MR', 'MN', 'NP', 'RW', 'TG', 'UZ', 'ZW', 'BJ', 'MG', 'MU', 'MZ', 'AO', 'CI', 'DJ', 'ZM', 'CD', 'CG', 'IQ', 'LY', 'TJ', 'VE', 'ET', 'XK'], 'external_urls': {'spotify': 'https://open.spotify.com/album/55BQeeBdoCapsI5SZFA3IN'}, 'href': 'https://api.spotify.com/v1/albums/55BQeeBdoCapsI5SZFA3IN', 'id': '55BQeeBdoCapsI5SZFA3IN', 'images': [{'height': 640, 'url': 'https://i.scdn.co/image/ab67616d0000b273fd5ae526d5ed5480cd218ba9', 'width': 640}, {'height': 300, 'url': 'https://i.scdn.co/image/ab67616d00001e02fd5ae526d5ed5480cd218ba9', 'width': 300}, {'height': 64, 'url': 'https://i.scdn.co/image/ab67616d00004851fd5ae526d5ed5480cd218ba9', 'width': 64}], 'name': 'Live in London', 'release_date': '2012', 'release_date_precision': 'year', 'total_tracks': 8, 'type': 'album', 'uri': 'spotify:album:55BQeeBdoCapsI5SZFA3IN'}, {'album_group': 'album', 'album_type': 'album', 'artists': [{'external_urls': {'spotify': 'https://open.spotify.com/artist/2WX2uTcsvV5OnS0inACecP'}, 'href': 'https://api.spotify.com/v1/artists/2WX2uTcsvV5OnS0inACecP', 'id': '2WX2uTcsvV5OnS0inACecP', 'name': 'Birdy', 'type': 'artist', 'uri': 'spotify:artist:2WX2uTcsvV5OnS0inACecP'}], 'available_markets': ['AR', 'AT', 'BE', 'BO', 'BR', 'BG', 'CL', 'CO', 'CR', 'CY', 'CZ', 'DK', 'DO', 'DE', 'EC', 'EE', 'SV', 'FR', 'GR', 'GT', 'HN', 'HK', 'HU', 'IE', 'LV', 'LT', 'LU', 'MY', 'MT', 'MX', 'NL', 'NZ', 'NI', 'PA', 'PY', 'PE', 'PH', 'PL', 'PT', 'SG', 'SK', 'ES', 'CH', 'TW', 'UY', 'US', 'AD', 'LI', 'MC', 'ID', 'JP', 'TH', 'VN', 'RO', 'ZA', 'SA', 'AE', 'BH', 'QA', 'OM', 'KW', 'EG', 'MA', 'DZ', 'TN', 'LB', 'JO', 'IN', 'BY', 'KZ', 'MD', 'UA', 'AL', 'BA', 'HR', 'ME', 'MK', 'RS', 'SI', 'KR', 'LK', 'GH', 'KE', 'NG', 'TZ', 'UG', 'AG', 'AM', 'BS', 'BB', 'BZ', 'BW', 'BF', 'CV', 'CW', 'DM', 'FJ', 'GM', 'GD', 'GW', 'HT', 'JM', 'LS', 'LR', 'MW', 'MV', 'ML', 'FM', 'NA', 'NE', 'PG', 'SM', 'ST', 'SN', 'SC', 'SL', 'KN', 'LC', 'VC', 'TL', 'TT', 'AZ', 'BN', 'BI', 'KH', 'CM', 'TD', 'KM', 'GQ', 'SZ', 'GA', 'GN', 'KG', 'LA', 'MO', 'MR', 'MN', 'NP', 'RW', 'TG', 'UZ', 'ZW', 'BJ', 'MG', 'MU', 'MZ', 'AO', 'CI', 'DJ', 'ZM', 'CD', 'CG', 'IQ', 'LY', 'TJ', 'VE', 'ET', 'XK'], 'external_urls': {'spotify': 'https://open.spotify.com/album/3sGzkurA1fvEFqh73sWCVA'}, 'href': 'https://api.spotify.com/v1/albums/3sGzkurA1fvEFqh73sWCVA', 'id': '3sGzkurA1fvEFqh73sWCVA', 'images': [{'height': 640, 'url': 'https://i.scdn.co/image/ab67616d0000b2730d3e279971cee5635dadf39a', 'width': 640}, {'height': 300, 'url': 'https://i.scdn.co/image/ab67616d00001e020d3e279971cee5635dadf39a', 'width': 300}, {'height': 64, 'url': 'https://i.scdn.co/image/ab67616d000048510d3e279971cee5635dadf39a', 'width': 64}], 'name': 'Birdy (Deluxe Version)', 'release_date': '2011-11-04', 'release_date_precision': 'day', 'total_tracks': 14, 'type': 'album', 'uri': 'spotify:album:3sGzkurA1fvEFqh73sWCVA'}, {'album_group': 'album', 'album_type': 'album', 'artists': [{'external_urls': {'spotify': 'https://open.spotify.com/artist/2WX2uTcsvV5OnS0inACecP'}, 'href': 'https://api.spotify.com/v1/artists/2WX2uTcsvV5OnS0inACecP', 'id': '2WX2uTcsvV5OnS0inACecP', 'name': 'Birdy', 'type': 'artist', 'uri': 'spotify:artist:2WX2uTcsvV5OnS0inACecP'}], 'available_markets': ['AR', 'AT', 'BE', 'BO', 'BR', 'BG', 'CL', 'CO', 'CR', 'CZ', 'DK', 'DO', 'DE', 'EC', 'EE', 'SV', 'FI', 'GR', 'GT', 'HN', 'HK', 'HU', 'IS', 'IE', 'IT', 'LV', 'LT', 'LU', 'MY', 'MX', 'NL', 'NZ', 'NI', 'NO', 'PA', 'PY', 'PE', 'PH', 'PL', 'SG', 'SK', 'SE', 'CH', 'TW', 'TR', 'UY', 'US', 'ID', 'JP', 'TH', 'VN', 'RO', 'IL', 'ZA', 'IN', 'BY', 'KZ', 'MD', 'UA', 'AL', 'BA', 'HR', 'ME', 'MK', 'RS', 'SI', 'KR', 'LK', 'GH', 'KE', 'NG', 'UG', 'AG', 'AM', 'BS', 'BB', 'BZ', 'BW', 'BF', 'CV', 'CW', 'DM', 'FJ', 'GM', 'GD', 'GW', 'HT', 'JM', 'FM', 'NA', 'NE', 'PG', 'KN', 'LC', 'VC', 'TL', 'TT', 'AZ', 'BN', 'KH', 'TD', 'SZ', 'KG', 'LA', 'MO', 'MN', 'NP', 'UZ', 'ZW', 'MU', 'MZ', 'TJ', 'VE', 'XK'], 'external_urls': {'spotify': 'https://open.spotify.com/album/1WGjSVIw0TVfbp5KrOFiP0'}, 'href': 'https://api.spotify.com/v1/albums/1WGjSVIw0TVfbp5KrOFiP0', 'id': '1WGjSVIw0TVfbp5KrOFiP0', 'images': [{'height': 640, 'url': 'https://i.scdn.co/image/ab67616d0000b273cdebae610076f51e8b7b20f4', 'width': 640}, {'height': 300, 'url': 'https://i.scdn.co/image/ab67616d00001e02cdebae610076f51e8b7b20f4', 'width': 300}, {'height': 64, 'url': 'https://i.scdn.co/image/ab67616d00004851cdebae610076f51e8b7b20f4', 'width': 64}], 'name': 'Birdy', 'release_date': '2011-11-04', 'release_date_precision': 'day', 'total_tracks': 11, 'type': 'album', 'uri': 'spotify:album:1WGjSVIw0TVfbp5KrOFiP0'}], 'limit': 20, 'next': None, 'offset': 0, 'previous': None, 'total': 8}\n"
     ]
    },
    {
     "ename": "AttributeError",
     "evalue": "'dict' object has no attribute 'status_code'",
     "output_type": "error",
     "traceback": [
      "\u001b[0;31m---------------------------------------------------------------------------\u001b[0m",
      "\u001b[0;31mAttributeError\u001b[0m                            Traceback (most recent call last)",
      "\u001b[1;32m/home/ediddev/School_Repos/TulsaMusicianDirectory/recommendations/EDA/spotify_songs_per_playlist.ipynb Cell 11\u001b[0m line \u001b[0;36m6\n\u001b[1;32m      <a href='vscode-notebook-cell://wsl%2Bubuntu/home/ediddev/School_Repos/TulsaMusicianDirectory/recommendations/EDA/spotify_songs_per_playlist.ipynb#X14sdnNjb2RlLXJlbW90ZQ%3D%3D?line=3'>4</a>\u001b[0m response \u001b[39m=\u001b[39m sp\u001b[39m.\u001b[39martist_albums(birdy_uri, album_type\u001b[39m=\u001b[39m\u001b[39m'\u001b[39m\u001b[39malbum\u001b[39m\u001b[39m'\u001b[39m)\n\u001b[1;32m      <a href='vscode-notebook-cell://wsl%2Bubuntu/home/ediddev/School_Repos/TulsaMusicianDirectory/recommendations/EDA/spotify_songs_per_playlist.ipynb#X14sdnNjb2RlLXJlbW90ZQ%3D%3D?line=4'>5</a>\u001b[0m \u001b[39mprint\u001b[39m(response)\n\u001b[0;32m----> <a href='vscode-notebook-cell://wsl%2Bubuntu/home/ediddev/School_Repos/TulsaMusicianDirectory/recommendations/EDA/spotify_songs_per_playlist.ipynb#X14sdnNjb2RlLXJlbW90ZQ%3D%3D?line=5'>6</a>\u001b[0m \u001b[39mprint\u001b[39m(response\u001b[39m.\u001b[39mstatus_code)\n\u001b[1;32m      <a href='vscode-notebook-cell://wsl%2Bubuntu/home/ediddev/School_Repos/TulsaMusicianDirectory/recommendations/EDA/spotify_songs_per_playlist.ipynb#X14sdnNjb2RlLXJlbW90ZQ%3D%3D?line=6'>7</a>\u001b[0m \u001b[39mprint\u001b[39m(response\u001b[39m.\u001b[39mheaders\u001b[39m.\u001b[39mget(\u001b[39m'\u001b[39m\u001b[39mX-RateLimit-Limit\u001b[39m\u001b[39m'\u001b[39m))\n\u001b[1;32m      <a href='vscode-notebook-cell://wsl%2Bubuntu/home/ediddev/School_Repos/TulsaMusicianDirectory/recommendations/EDA/spotify_songs_per_playlist.ipynb#X14sdnNjb2RlLXJlbW90ZQ%3D%3D?line=7'>8</a>\u001b[0m \u001b[39mprint\u001b[39m(response\u001b[39m.\u001b[39mheaders\u001b[39m.\u001b[39mget(\u001b[39m'\u001b[39m\u001b[39mX-RateLimit-Remaining\u001b[39m\u001b[39m'\u001b[39m))\n",
      "\u001b[0;31mAttributeError\u001b[0m: 'dict' object has no attribute 'status_code'"
     ]
    }
   ],
   "source": [
    "import requests\n",
    "\n",
    "birdy_uri = 'spotify:artist:2WX2uTcsvV5OnS0inACecP'\n",
    "response = sp.artist_albums(birdy_uri, album_type='album')\n",
    "print(response)\n",
    "print(response.status_code)\n",
    "print(response.headers.get('X-RateLimit-Limit'))\n",
    "print(response.headers.get('X-RateLimit-Remaining'))\n",
    "print(response.headers.get('X-RateLimit-Reset'))\n"
   ]
  },
  {
   "cell_type": "code",
   "execution_count": 18,
   "metadata": {},
   "outputs": [
    {
     "data": {
      "text/plain": [
       "{'playlists': {'href': 'https://api.spotify.com/v1/search?query=playlist%3A37i9dQZF1DXcBWIGoYBM5M&type=playlist&offset=0&limit=10',\n",
       "  'items': [{'collaborative': False,\n",
       "    'description': 'spotify:user:spotify:playlist:37i9dQZF1DXcBWIGoYBM5M',\n",
       "    'external_urls': {'spotify': 'https://open.spotify.com/playlist/612zawZmFOIKjWuIYUro3V'},\n",
       "    'href': 'https://api.spotify.com/v1/playlists/612zawZmFOIKjWuIYUro3V',\n",
       "    'id': '612zawZmFOIKjWuIYUro3V',\n",
       "    'images': [{'height': 640,\n",
       "      'url': 'https://mosaic.scdn.co/640/ab67616d0000b27313584782bb6d165483d296edab67616d0000b273352b3ced3f510b351e02b058ab67616d0000b2735f76dbd311a0782823550b30ab67616d0000b273bf01fd0986a195d485922167',\n",
       "      'width': 640},\n",
       "     {'height': 300,\n",
       "      'url': 'https://mosaic.scdn.co/300/ab67616d0000b27313584782bb6d165483d296edab67616d0000b273352b3ced3f510b351e02b058ab67616d0000b2735f76dbd311a0782823550b30ab67616d0000b273bf01fd0986a195d485922167',\n",
       "      'width': 300},\n",
       "     {'height': 60,\n",
       "      'url': 'https://mosaic.scdn.co/60/ab67616d0000b27313584782bb6d165483d296edab67616d0000b273352b3ced3f510b351e02b058ab67616d0000b2735f76dbd311a0782823550b30ab67616d0000b273bf01fd0986a195d485922167',\n",
       "      'width': 60}],\n",
       "    'name': 'songs to think and cry until you sob 💔😭',\n",
       "    'owner': {'display_name': 'daiphca Charles',\n",
       "     'external_urls': {'spotify': 'https://open.spotify.com/user/31y54rtmjzoyevjtw25yaw7qwmne'},\n",
       "     'href': 'https://api.spotify.com/v1/users/31y54rtmjzoyevjtw25yaw7qwmne',\n",
       "     'id': '31y54rtmjzoyevjtw25yaw7qwmne',\n",
       "     'type': 'user',\n",
       "     'uri': 'spotify:user:31y54rtmjzoyevjtw25yaw7qwmne'},\n",
       "    'primary_color': None,\n",
       "    'public': None,\n",
       "    'snapshot_id': 'NDEsOTQ0NzZiODhkYjk5ZDhmMTFlNTQzZjUwOTdiZWMzOTNjMjdjZTI0Yw==',\n",
       "    'tracks': {'href': 'https://api.spotify.com/v1/playlists/612zawZmFOIKjWuIYUro3V/tracks',\n",
       "     'total': 15},\n",
       "    'type': 'playlist',\n",
       "    'uri': 'spotify:playlist:612zawZmFOIKjWuIYUro3V'}],\n",
       "  'limit': 10,\n",
       "  'next': None,\n",
       "  'offset': 0,\n",
       "  'previous': None,\n",
       "  'total': 1}}"
      ]
     },
     "execution_count": 18,
     "metadata": {},
     "output_type": "execute_result"
    }
   ],
   "source": [
    "sp.search(q='playlist:37i9dQZF1DXcBWIGoYBM5M', type='playlist')\n"
   ]
  }
 ],
 "metadata": {
  "kernelspec": {
   "display_name": "base",
   "language": "python",
   "name": "python3"
  },
  "language_info": {
   "codemirror_mode": {
    "name": "ipython",
    "version": 3
   },
   "file_extension": ".py",
   "mimetype": "text/x-python",
   "name": "python",
   "nbconvert_exporter": "python",
   "pygments_lexer": "ipython3",
   "version": "3.11.4"
  }
 },
 "nbformat": 4,
 "nbformat_minor": 2
}
